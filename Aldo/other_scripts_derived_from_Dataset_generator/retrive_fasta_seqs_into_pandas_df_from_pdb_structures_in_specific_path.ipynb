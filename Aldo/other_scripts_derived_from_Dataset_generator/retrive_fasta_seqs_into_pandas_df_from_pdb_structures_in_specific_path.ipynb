{
 "cells": [
  {
   "cell_type": "code",
   "execution_count": null,
   "metadata": {},
   "outputs": [],
   "source": [
    "\"\"\" Get fasta into dataframe from  pdbs | This cell is designed to place\n",
    "sequence information from pdbs in new cells in dataframe. \n",
    "\n",
    "NOTE: Modules are kept in case of repurposing this code for future as its own\n",
    "\"\"\"\n",
    "\n",
    "### stored in previous steps\n",
    "import os\n",
    "import pandas as pd\n",
    "\n",
    "# Mapping of three-letter amino acid codes to one-letter codes\n",
    "threetoone = {\n",
    "    \"CYS\": \"C\", \"ASP\": \"D\", \"SER\": \"S\", \"GLN\": \"Q\", \"LYS\": \"K\", \"ILE\": \"I\", \"PRO\": \"P\", \"THR\": \"T\",\n",
    "    \"PHE\": \"F\", \"ASN\": \"N\", \"GLY\": \"G\", \"HIS\": \"H\", \"LEU\": \"L\", \"ARG\": \"R\", \"TRP\": \"W\", \"ALA\": \"A\",\n",
    "    \"VAL\": \"V\", \"GLU\": \"E\", \"TYR\": \"Y\", \"MET\": \"M\",\n",
    "}\n",
    "\n",
    "def pdb_to_sequence(pdb_filename: str, file_extension: str) -> str:\n",
    "    \"\"\"Extract sequence from PDB file and return it as a string.\"\"\"\n",
    "    sequence = \"\"\n",
    "    with open(pdb_filename, \"r\") as file:\n",
    "        for line in file.readlines():\n",
    "            if line.startswith(\"ATOM\") and line[12:16].strip() == \"CA\":\n",
    "                sequence += threetoone[line[17:20].strip()]\n",
    "    return sequence\n",
    "\n",
    "# Update the path to the PDB files\n",
    "pdb_dir = str(new_folder) + \"/pdbs/\"\n",
    "\n",
    "# Iterate over each row in the DataFrame\n",
    "for index, row in dataset.iterrows():\n",
    "    pdb_filename = row['PDB ID(s) for Ligand-Target Complex']\n",
    "    fasta_sequence = \"\"\n",
    "    \n",
    "    if pd.notnull(pdb_filename):\n",
    "        pdb_filename = os.path.join(pdb_dir, pdb_filename.lower() + \".pdb\")  # Convert to lowercase\n",
    "        fasta_sequence = pdb_to_sequence(pdb_filename, \".pdb\")  \n",
    "    \n",
    "    dataset.at[index, \"fasta_sequence\"] = fasta_sequence\n"
   ]
  }
 ],
 "metadata": {
  "language_info": {
   "name": "python"
  },
  "orig_nbformat": 4
 },
 "nbformat": 4,
 "nbformat_minor": 2
}
