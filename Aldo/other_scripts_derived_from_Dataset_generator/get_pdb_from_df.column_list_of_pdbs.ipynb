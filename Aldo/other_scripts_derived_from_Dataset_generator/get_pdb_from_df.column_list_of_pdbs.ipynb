{
 "cells": [
  {
   "cell_type": "code",
   "execution_count": null,
   "metadata": {},
   "outputs": [],
   "source": [
    "\"\"\" Download pdb files | In fact, following code will retrieve \"ent\" files\n",
    "from RCSB. pdb files will be converted later. \n",
    "\n",
    "NOTE: Modules are kept in case of repurposing this code for future as its own\n",
    "\"\"\"\n",
    "\n",
    "## Libraries to download pdb data using biopython\n",
    "import os\n",
    "from Bio.PDB.PDBList import PDBList\n",
    "from tqdm import tqdm\n",
    "\n",
    "# Get the PDB IDs from the DataFrame column\n",
    "pdb_ids = dataset['PDB ID(s) for Ligand-Target Complex'].tolist()\n",
    "\n",
    "# Create a directory for saving PDB files\n",
    "os.makedirs('pdbs', exist_ok=True)\n",
    "\n",
    "# Create an instance of PDBList\n",
    "pdb_list = PDBList()\n",
    "\n",
    "# Calculate the total number of structures\n",
    "total_structures = len(pdb_ids)\n",
    "\n",
    "# Define a helper function to update the progress bar\n",
    "def update_progress(progress):\n",
    "    bar_length = 40\n",
    "    filled_length = int(round(bar_length * progress))\n",
    "    bar = '█' * filled_length + '-' * (bar_length - filled_length)\n",
    "    percent = round(progress * 100, 2)\n",
    "    print(f'Progress: |{bar}| {percent}%')\n",
    "\n",
    "# Download the PDB structures for the given IDs with progress bar\n",
    "for i, pdb_id in enumerate(pdb_ids, start=1):\n",
    "    pdb_list.retrieve_pdb_file(pdb_id, file_format='pdb', pdir=str(new_folder) + '/pdbs')\n",
    "    progress = i / total_structures\n",
    "    update_progress(progress)\n",
    "\n",
    "# Track the IDs of failed downloads\n",
    "failed_ids = []\n",
    "\n",
    "# Download the PDB structures for the given IDs with progress bar\n",
    "for i, pdb_id in enumerate(pdb_ids, start=1):\n",
    "    try:\n",
    "        pdb_list.retrieve_pdb_file(pdb_id, file_format='pdb', pdir='pdbs')\n",
    "    except:\n",
    "        failed_ids.append(pdb_id)\n",
    "    progress = i / total_structures\n",
    "    update_progress(progress)"
   ]
  }
 ],
 "metadata": {
  "language_info": {
   "name": "python"
  },
  "orig_nbformat": 4
 },
 "nbformat": 4,
 "nbformat_minor": 2
}
