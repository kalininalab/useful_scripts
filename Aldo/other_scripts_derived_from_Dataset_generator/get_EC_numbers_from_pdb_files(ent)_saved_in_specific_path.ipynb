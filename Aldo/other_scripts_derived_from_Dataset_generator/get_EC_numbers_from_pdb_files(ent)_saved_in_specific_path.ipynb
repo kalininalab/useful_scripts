{
 "cells": [
  {
   "cell_type": "code",
   "execution_count": null,
   "metadata": {},
   "outputs": [],
   "source": [
    "\"\"\" Get EC ids | This cell is designed to get EC number from PDB.ent\n",
    "files, this will be useful to filter by specfici enzymatic activity\n",
    "\n",
    "NOTE: Modules are kept in case of repurposing this code for future as its own\n",
    "\"\"\"\n",
    "\n",
    "### libraries for add EC numbers\n",
    "import re\n",
    "import os\n",
    "import pandas as pd\n",
    "\n",
    "def extract_ec_number(file_path):\n",
    "    ec_number = None\n",
    "    with open(file_path, 'r') as file:\n",
    "        for line in file:\n",
    "            if line.startswith('COMPND'):\n",
    "                match = re.search(r'EC:\\s*([\\d.-]+)', line)\n",
    "                if match:\n",
    "                    ec_number = match.group(1)\n",
    "                    break\n",
    "    return ec_number\n",
    "\n",
    "# Get the PDB IDs from the DataFrame column\n",
    "pdb_ids = dataset['PDB ID(s) for Ligand-Target Complex'].tolist()\n",
    "\n",
    "# List to store the EC numbers\n",
    "ec_numbers = []\n",
    "\n",
    "# Iterate over the PDB IDs\n",
    "for pdb_id in pdb_ids:\n",
    "    pdb_id_lower = pdb_id.lower()\n",
    "    file_path = f\"{new_folder}/pdbs/pdb{pdb_id_lower}.ent\" ### define path\n",
    "    ec_number = extract_ec_number(file_path)\n",
    "    ec_numbers.append(ec_number)\n",
    "\n",
    "# Assign EC numbers to the 'EC' column in the dataset\n",
    "dataset['EC number'] = ec_numbers"
   ]
  }
 ],
 "metadata": {
  "language_info": {
   "name": "python"
  },
  "orig_nbformat": 4
 },
 "nbformat": 4,
 "nbformat_minor": 2
}
